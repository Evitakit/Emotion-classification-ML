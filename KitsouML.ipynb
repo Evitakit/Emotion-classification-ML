{
 "cells": [
  {
   "cell_type": "code",
   "execution_count": 182,
   "id": "426f89f8",
   "metadata": {},
   "outputs": [],
   "source": [
    "import numpy as np\n",
    "import pandas as pd\n",
    "import pandas as pd\n",
    "import numpy as np\n",
    "import matplotlib.pyplot as plt\n",
    "from tensorflow.keras.utils import to_categorical\n",
    "from tensorflow.keras.models import Sequential\n",
    "from tensorflow.keras.layers import Dense, Dropout, Flatten, Conv2D, MaxPooling2D\n",
    "from tensorflow.keras.losses import categorical_crossentropy\n",
    "from tensorflow.keras import backend as K\n",
    "from tensorflow.keras.optimizers import Adadelta, Adam\n",
    "from keras.preprocessing.image import ImageDataGenerator\n",
    "from typing import Tuple, List, Dict\n",
    "import matplotlib.pyplot as plt\n",
    "import tensorflow as tf\n",
    "%matplotlib inline"
   ]
  },
  {
   "cell_type": "code",
   "execution_count": 160,
   "id": "a26f462c",
   "metadata": {},
   "outputs": [
    {
     "data": {
      "text/html": [
       "<div>\n",
       "<style scoped>\n",
       "    .dataframe tbody tr th:only-of-type {\n",
       "        vertical-align: middle;\n",
       "    }\n",
       "\n",
       "    .dataframe tbody tr th {\n",
       "        vertical-align: top;\n",
       "    }\n",
       "\n",
       "    .dataframe thead th {\n",
       "        text-align: right;\n",
       "    }\n",
       "</style>\n",
       "<table border=\"1\" class=\"dataframe\">\n",
       "  <thead>\n",
       "    <tr style=\"text-align: right;\">\n",
       "      <th></th>\n",
       "      <th>emotion</th>\n",
       "      <th>pixels</th>\n",
       "      <th>Usage</th>\n",
       "    </tr>\n",
       "  </thead>\n",
       "  <tbody>\n",
       "    <tr>\n",
       "      <th>0</th>\n",
       "      <td>0</td>\n",
       "      <td>70 80 82 72 58 58 60 63 54 58 60 48 89 115 121...</td>\n",
       "      <td>Training</td>\n",
       "    </tr>\n",
       "    <tr>\n",
       "      <th>1</th>\n",
       "      <td>0</td>\n",
       "      <td>151 150 147 155 148 133 111 140 170 174 182 15...</td>\n",
       "      <td>Training</td>\n",
       "    </tr>\n",
       "    <tr>\n",
       "      <th>2</th>\n",
       "      <td>2</td>\n",
       "      <td>231 212 156 164 174 138 161 173 182 200 106 38...</td>\n",
       "      <td>Training</td>\n",
       "    </tr>\n",
       "    <tr>\n",
       "      <th>3</th>\n",
       "      <td>4</td>\n",
       "      <td>24 32 36 30 32 23 19 20 30 41 21 22 32 34 21 1...</td>\n",
       "      <td>Training</td>\n",
       "    </tr>\n",
       "    <tr>\n",
       "      <th>4</th>\n",
       "      <td>6</td>\n",
       "      <td>4 0 0 0 0 0 0 0 0 0 0 0 3 15 23 28 48 50 58 84...</td>\n",
       "      <td>Training</td>\n",
       "    </tr>\n",
       "  </tbody>\n",
       "</table>\n",
       "</div>"
      ],
      "text/plain": [
       "   emotion                                             pixels     Usage\n",
       "0        0  70 80 82 72 58 58 60 63 54 58 60 48 89 115 121...  Training\n",
       "1        0  151 150 147 155 148 133 111 140 170 174 182 15...  Training\n",
       "2        2  231 212 156 164 174 138 161 173 182 200 106 38...  Training\n",
       "3        4  24 32 36 30 32 23 19 20 30 41 21 22 32 34 21 1...  Training\n",
       "4        6  4 0 0 0 0 0 0 0 0 0 0 0 3 15 23 28 48 50 58 84...  Training"
      ]
     },
     "execution_count": 160,
     "metadata": {},
     "output_type": "execute_result"
    }
   ],
   "source": [
    "label_map={\"0\":\"ANGRY\",\"1\":\"HAPPY\",\"2\":\"SAD\",\"3\":\"SURPRISE\",\"4\":\"NEUTRAL\"}\n",
    "data = pd.read_csv(\"fer2013.csv\")\n",
    "data.head()"
   ]
  },
  {
   "cell_type": "markdown",
   "id": "aae343b8",
   "metadata": {},
   "source": [
    "The data is divided into three subsets: Training, PublicTest (validation)& PrivateTest"
   ]
  },
  {
   "cell_type": "code",
   "execution_count": 161,
   "id": "3bfe7820",
   "metadata": {},
   "outputs": [
    {
     "name": "stdout",
     "output_type": "stream",
     "text": [
      "(28709, 2304)\n",
      "(3589, 2304)\n",
      "(3589, 2304)\n"
     ]
    },
    {
     "data": {
      "text/plain": [
       "array([0, 0, 2, ..., 4, 0, 4])"
      ]
     },
     "execution_count": 161,
     "metadata": {},
     "output_type": "execute_result"
    }
   ],
   "source": [
    "def parse_df(source_df):\n",
    "    X = [np.fromstring(i, dtype=np.int16, sep=' ') for i in source_df[\"pixels\"]]\n",
    "    y = source_df.values[:, :1]\n",
    "    y = y.reshape(-1,)\n",
    "    y = y.astype(\"int\")\n",
    "    return X, y\n",
    "\n",
    "train_df = data[data[\"Usage\"]==\"Training\"]\n",
    "val_df = data[data[\"Usage\"]==\"PublicTest\"]\n",
    "test_df = data[data[\"Usage\"]==\"PrivateTest\"]\n",
    "\n",
    "features_train, targets_train = parse_df(train_df)\n",
    "features_val, targets_val = parse_df(val_df)\n",
    "features_test, targets_test = parse_df(test_df)\n",
    "\n",
    "print(np.asarray(features_train).shape)\n",
    "print(np.asarray(features_val).shape)\n",
    "print(np.asanyarray(features_test).shape)\n",
    "targets_train.reshape(-1,)"
   ]
  },
  {
   "cell_type": "code",
   "execution_count": 163,
   "id": "6a2308e7",
   "metadata": {},
   "outputs": [],
   "source": [
    "INPUT_SHAPE = (48, 48)\n",
    "INPUT_DIM = INPUT_SHAPE[0]"
   ]
  },
  {
   "cell_type": "code",
   "execution_count": 164,
   "id": "32fccb0c",
   "metadata": {},
   "outputs": [],
   "source": [
    "def reconstruct_dataset(X_vec):\n",
    "    y_vec = [[index]*len(value) for index, value in enumerate(X_vec)]\n",
    "\n",
    "    X = list(itertools.chain(*X_vec))  # concatenate all Xs\n",
    "    y = list(itertools.chain(*y_vec))  # conacatenate all ys\n",
    "\n",
    "    return X, y"
   ]
  },
  {
   "cell_type": "code",
   "execution_count": 165,
   "id": "ca03f117",
   "metadata": {},
   "outputs": [],
   "source": [
    "X_train_data = np.array(X_train_fin).reshape(-1, INPUT_DIM, INPUT_DIM, 1)\n",
    "X_train_data = X_train_data/255.\n",
    "y_train_data = np.array(y_train_fin)\n",
    "y_train_data = to_categorical(y_train_data)\n",
    "\n",
    "X_val_data = np.array(X_val_fin).reshape(-1, INPUT_DIM, INPUT_DIM, 1)\n",
    "X_val_data = X_val_data/255.\n",
    "y_val_data = np.array(y_val_fin)\n",
    "y_val_data = to_categorical(y_val_data)\n",
    "\n",
    "X_test_data = np.array(X_test).reshape(-1, INPUT_DIM, INPUT_DIM, 1)\n",
    "X_test_data = X_test_data/255.\n",
    "y_test_data = np.array(y_test)\n",
    "y_test_data = to_categorical(y_test_data)\n"
   ]
  },
  {
   "cell_type": "code",
   "execution_count": 166,
   "id": "eb9df7f0",
   "metadata": {},
   "outputs": [],
   "source": [
    "def reshape_img_input(x: np.ndarray,\n",
    "                      img_rows: int = 28,\n",
    "                      img_cols: int = 28,\n",
    "                      normalize: bool = True) -> Tuple:\n",
    "  \n",
    "    \n",
    "    print(f'Original shape of nd-array: {x.shape}')\n",
    "    \n",
    "    if K.image_data_format() == 'channels_first':\n",
    "        \n",
    "        # the channel dimension goes to the front\n",
    "        x1 = x.reshape(x.shape[0], 1, img_rows, img_cols)\n",
    "\n",
    "        input_shape = (1, img_rows, img_cols)\n",
    "\n",
    "    else:\n",
    "        x1 = x.reshape(x.shape[0], img_rows, img_cols, 1)\n",
    "\n",
    "        input_shape = (img_rows, img_cols, 1)\n",
    "\n",
    "    x1 = x1.astype('float32')\n",
    "\n",
    "    if normalize:\n",
    "        x1 /= 255.\n",
    "    \n",
    "    \n",
    "    return x1, input_shape"
   ]
  },
  {
   "cell_type": "code",
   "execution_count": 120,
   "id": "0bd4a629",
   "metadata": {
    "scrolled": true
   },
   "outputs": [
    {
     "name": "stdout",
     "output_type": "stream",
     "text": [
      "Original shape of nd-array: (1800, 2304)\n"
     ]
    }
   ],
   "source": [
    "X_test, input_shape = reshape_img_input(x=X_test,\n",
    "                                         img_rows=48, \n",
    "                                         img_cols=48,\n",
    "                                         normalize=True)"
   ]
  },
  {
   "cell_type": "code",
   "execution_count": 126,
   "id": "7ec4b70d",
   "metadata": {},
   "outputs": [],
   "source": [
    "X_test_data = X_test.reshape(X_test.shape[0], 1, 48, 48).astype('float32')"
   ]
  },
  {
   "cell_type": "code",
   "execution_count": 212,
   "id": "96723e93",
   "metadata": {},
   "outputs": [],
   "source": [
    "#X_train_data = X_train_data.str.extract(r'(\\d+)')"
   ]
  },
  {
   "cell_type": "code",
   "execution_count": 215,
   "id": "1ea94100",
   "metadata": {},
   "outputs": [
    {
     "name": "stdout",
     "output_type": "stream",
     "text": [
      "Original shape of nd-array: (30856, 48, 48, 1)\n"
     ]
    }
   ],
   "source": [
    "X_train_data, input_shape = reshape_img_input(x=X_train_data,\n",
    "                                         img_rows=48, \n",
    "                                         img_cols=48,\n",
    "                                         normalize=True)"
   ]
  },
  {
   "cell_type": "code",
   "execution_count": null,
   "id": "5f865884",
   "metadata": {},
   "outputs": [],
   "source": [
    "X_train_data = X_train.reshape(X_train_data.shape[0], 1, 48, 48).astype('float32')"
   ]
  },
  {
   "cell_type": "markdown",
   "id": "7d586dec",
   "metadata": {},
   "source": [
    "# Building the Model"
   ]
  },
  {
   "cell_type": "code",
   "execution_count": 202,
   "id": "9aff6ec8",
   "metadata": {},
   "outputs": [],
   "source": [
    "#hyperparameters\n",
    "batch_size = 1024\n",
    "\n",
    "epochs = 100"
   ]
  },
  {
   "cell_type": "code",
   "execution_count": 266,
   "id": "f2e28d2d",
   "metadata": {},
   "outputs": [
    {
     "name": "stdout",
     "output_type": "stream",
     "text": [
      "Model: \"sequential_31\"\n",
      "_________________________________________________________________\n",
      " Layer (type)                Output Shape              Param #   \n",
      "=================================================================\n",
      " conv2d_101 (Conv2D)         (None, 1, 48, 48)         20784     \n",
      "                                                                 \n",
      " conv2d_102 (Conv2D)         (None, 1, 48, 48)         20784     \n",
      "                                                                 \n",
      " max_pooling2d_44 (MaxPoolin  (None, 1, 48, 48)        0         \n",
      " g2D)                                                            \n",
      "                                                                 \n",
      " dropout_26 (Dropout)        (None, 1, 48, 48)         0         \n",
      "                                                                 \n",
      " conv2d_103 (Conv2D)         (None, 1, 48, 48)         20784     \n",
      "                                                                 \n",
      " conv2d_104 (Conv2D)         (None, 1, 48, 48)         20784     \n",
      "                                                                 \n",
      " max_pooling2d_45 (MaxPoolin  (None, 1, 48, 48)        0         \n",
      " g2D)                                                            \n",
      "                                                                 \n",
      " dropout_27 (Dropout)        (None, 1, 48, 48)         0         \n",
      "                                                                 \n",
      " conv2d_105 (Conv2D)         (None, 1, 48, 128)        55424     \n",
      "                                                                 \n",
      " conv2d_106 (Conv2D)         (None, 1, 48, 128)        147584    \n",
      "                                                                 \n",
      " max_pooling2d_46 (MaxPoolin  (None, 1, 48, 128)       0         \n",
      " g2D)                                                            \n",
      "                                                                 \n",
      " dense_13 (Dense)            (None, 1, 48, 6)          774       \n",
      "                                                                 \n",
      "=================================================================\n",
      "Total params: 286,918\n",
      "Trainable params: 286,918\n",
      "Non-trainable params: 0\n",
      "_________________________________________________________________\n"
     ]
    }
   ],
   "source": [
    "model = Sequential()  \n",
    "model.add(Conv2D(48, kernel_size=(3, 3), activation='relu', input_shape=(X_train.shape[1:]), padding='same'))  \n",
    "model.add(Conv2D(48,kernel_size= (3, 3), activation='relu', padding='same'))    \n",
    "model.add(MaxPooling2D(pool_size=(1,1)))  \n",
    "model.add(Dropout(0.3))  \n",
    "#2nd convolution layer  \n",
    "model.add(Conv2D(48, (3, 3), activation='relu', padding='same'))  \n",
    "model.add(Conv2D(48, (3, 3), activation='relu', padding='same'))    \n",
    "model.add(MaxPooling2D(pool_size=(1,1)))  \n",
    "model.add(Dropout(0.3))  \n",
    "#3rd convolution layer  \n",
    "model.add(Conv2D(128, (3, 3), activation='relu', padding='same'))  \n",
    "model.add(Conv2D(128, (3, 3), activation='relu', padding='same'))    \n",
    "model.add(MaxPooling2D(pool_size=(1,1)))  \n",
    "model.add(Flatten())  \n",
    "model.add(Dense(6,activation='softmax'))  \n",
    "model.summary()"
   ]
  },
  {
   "cell_type": "code",
   "execution_count": 267,
   "id": "91882c0f",
   "metadata": {},
   "outputs": [],
   "source": [
    "model.compile(loss='categorical_crossentropy',\n",
    "              optimizer='adam',\n",
    "              metrics=['accuracy'])"
   ]
  },
  {
   "cell_type": "code",
   "execution_count": 268,
   "id": "1d002c9e",
   "metadata": {},
   "outputs": [
    {
     "name": "stdout",
     "output_type": "stream",
     "text": [
      "Epoch 1/100\n"
     ]
    },
    {
     "ename": "ValueError",
     "evalue": "in user code:\n\n    File \"/opt/anaconda3/lib/python3.8/site-packages/keras/engine/training.py\", line 1051, in train_function  *\n        return step_function(self, iterator)\n    File \"/opt/anaconda3/lib/python3.8/site-packages/keras/engine/training.py\", line 1040, in step_function  **\n        outputs = model.distribute_strategy.run(run_step, args=(data,))\n    File \"/opt/anaconda3/lib/python3.8/site-packages/keras/engine/training.py\", line 1030, in run_step  **\n        outputs = model.train_step(data)\n    File \"/opt/anaconda3/lib/python3.8/site-packages/keras/engine/training.py\", line 889, in train_step\n        y_pred = self(x, training=True)\n    File \"/opt/anaconda3/lib/python3.8/site-packages/keras/utils/traceback_utils.py\", line 67, in error_handler\n        raise e.with_traceback(filtered_tb) from None\n    File \"/opt/anaconda3/lib/python3.8/site-packages/keras/engine/input_spec.py\", line 264, in assert_input_compatibility\n        raise ValueError(f'Input {input_index} of layer \"{layer_name}\" is '\n\n    ValueError: Input 0 of layer \"sequential_31\" is incompatible with the layer: expected shape=(None, 1, 48, 48), found shape=(None, 48, 48, 1)\n",
     "output_type": "error",
     "traceback": [
      "\u001b[0;31m---------------------------------------------------------------------------\u001b[0m",
      "\u001b[0;31mValueError\u001b[0m                                Traceback (most recent call last)",
      "\u001b[0;32m<ipython-input-268-0f408973cf07>\u001b[0m in \u001b[0;36m<module>\u001b[0;34m\u001b[0m\n\u001b[0;32m----> 1\u001b[0;31m model.fit(\n\u001b[0m\u001b[1;32m      2\u001b[0m     \u001b[0mX_train_data\u001b[0m\u001b[0;34m,\u001b[0m\u001b[0;34m\u001b[0m\u001b[0;34m\u001b[0m\u001b[0m\n\u001b[1;32m      3\u001b[0m     \u001b[0my_train_data\u001b[0m\u001b[0;34m,\u001b[0m\u001b[0;34m\u001b[0m\u001b[0;34m\u001b[0m\u001b[0m\n\u001b[1;32m      4\u001b[0m     \u001b[0mbatch_size\u001b[0m \u001b[0;34m=\u001b[0m \u001b[0mbatch_size\u001b[0m\u001b[0;34m,\u001b[0m\u001b[0;34m\u001b[0m\u001b[0;34m\u001b[0m\u001b[0m\n\u001b[1;32m      5\u001b[0m     \u001b[0mepochs\u001b[0m \u001b[0;34m=\u001b[0m \u001b[0mepochs\u001b[0m\u001b[0;34m,\u001b[0m\u001b[0;34m\u001b[0m\u001b[0;34m\u001b[0m\u001b[0m\n",
      "\u001b[0;32m/opt/anaconda3/lib/python3.8/site-packages/keras/utils/traceback_utils.py\u001b[0m in \u001b[0;36merror_handler\u001b[0;34m(*args, **kwargs)\u001b[0m\n\u001b[1;32m     65\u001b[0m     \u001b[0;32mexcept\u001b[0m \u001b[0mException\u001b[0m \u001b[0;32mas\u001b[0m \u001b[0me\u001b[0m\u001b[0;34m:\u001b[0m  \u001b[0;31m# pylint: disable=broad-except\u001b[0m\u001b[0;34m\u001b[0m\u001b[0;34m\u001b[0m\u001b[0m\n\u001b[1;32m     66\u001b[0m       \u001b[0mfiltered_tb\u001b[0m \u001b[0;34m=\u001b[0m \u001b[0m_process_traceback_frames\u001b[0m\u001b[0;34m(\u001b[0m\u001b[0me\u001b[0m\u001b[0;34m.\u001b[0m\u001b[0m__traceback__\u001b[0m\u001b[0;34m)\u001b[0m\u001b[0;34m\u001b[0m\u001b[0;34m\u001b[0m\u001b[0m\n\u001b[0;32m---> 67\u001b[0;31m       \u001b[0;32mraise\u001b[0m \u001b[0me\u001b[0m\u001b[0;34m.\u001b[0m\u001b[0mwith_traceback\u001b[0m\u001b[0;34m(\u001b[0m\u001b[0mfiltered_tb\u001b[0m\u001b[0;34m)\u001b[0m \u001b[0;32mfrom\u001b[0m \u001b[0;32mNone\u001b[0m\u001b[0;34m\u001b[0m\u001b[0;34m\u001b[0m\u001b[0m\n\u001b[0m\u001b[1;32m     68\u001b[0m     \u001b[0;32mfinally\u001b[0m\u001b[0;34m:\u001b[0m\u001b[0;34m\u001b[0m\u001b[0;34m\u001b[0m\u001b[0m\n\u001b[1;32m     69\u001b[0m       \u001b[0;32mdel\u001b[0m \u001b[0mfiltered_tb\u001b[0m\u001b[0;34m\u001b[0m\u001b[0;34m\u001b[0m\u001b[0m\n",
      "\u001b[0;32m/opt/anaconda3/lib/python3.8/site-packages/keras/engine/training.py\u001b[0m in \u001b[0;36mtf__train_function\u001b[0;34m(iterator)\u001b[0m\n\u001b[1;32m     13\u001b[0m \u001b[0;31m# limitations under the License.\u001b[0m\u001b[0;34m\u001b[0m\u001b[0;34m\u001b[0m\u001b[0;34m\u001b[0m\u001b[0m\n\u001b[1;32m     14\u001b[0m \u001b[0;31m# ==============================================================================\u001b[0m\u001b[0;34m\u001b[0m\u001b[0;34m\u001b[0m\u001b[0;34m\u001b[0m\u001b[0m\n\u001b[0;32m---> 15\u001b[0;31m \u001b[0;34m\"\"\"Training-related part of the Keras engine.\"\"\"\u001b[0m\u001b[0;34m\u001b[0m\u001b[0;34m\u001b[0m\u001b[0m\n\u001b[0m\u001b[1;32m     16\u001b[0m \u001b[0;34m\u001b[0m\u001b[0m\n\u001b[1;32m     17\u001b[0m \u001b[0;32mimport\u001b[0m \u001b[0mcopy\u001b[0m\u001b[0;34m\u001b[0m\u001b[0;34m\u001b[0m\u001b[0m\n",
      "\u001b[0;31mValueError\u001b[0m: in user code:\n\n    File \"/opt/anaconda3/lib/python3.8/site-packages/keras/engine/training.py\", line 1051, in train_function  *\n        return step_function(self, iterator)\n    File \"/opt/anaconda3/lib/python3.8/site-packages/keras/engine/training.py\", line 1040, in step_function  **\n        outputs = model.distribute_strategy.run(run_step, args=(data,))\n    File \"/opt/anaconda3/lib/python3.8/site-packages/keras/engine/training.py\", line 1030, in run_step  **\n        outputs = model.train_step(data)\n    File \"/opt/anaconda3/lib/python3.8/site-packages/keras/engine/training.py\", line 889, in train_step\n        y_pred = self(x, training=True)\n    File \"/opt/anaconda3/lib/python3.8/site-packages/keras/utils/traceback_utils.py\", line 67, in error_handler\n        raise e.with_traceback(filtered_tb) from None\n    File \"/opt/anaconda3/lib/python3.8/site-packages/keras/engine/input_spec.py\", line 264, in assert_input_compatibility\n        raise ValueError(f'Input {input_index} of layer \"{layer_name}\" is '\n\n    ValueError: Input 0 of layer \"sequential_31\" is incompatible with the layer: expected shape=(None, 1, 48, 48), found shape=(None, 48, 48, 1)\n"
     ]
    }
   ],
   "source": [
    "model.fit(\n",
    "    X_train_data,\n",
    "    y_train_data,\n",
    "    batch_size = batch_size,\n",
    "    epochs = epochs,\n",
    "    verbose = 1,\n",
    "    validation_split = 0.1,)"
   ]
  },
  {
   "cell_type": "markdown",
   "id": "ac0db7aa",
   "metadata": {},
   "source": [
    "# Building the second model"
   ]
  },
  {
   "cell_type": "code",
   "execution_count": 265,
   "id": "0a6cae47",
   "metadata": {},
   "outputs": [
    {
     "name": "stdout",
     "output_type": "stream",
     "text": [
      "Model: \"sequential_30\"\n",
      "_________________________________________________________________\n",
      " Layer (type)                Output Shape              Param #   \n",
      "=================================================================\n",
      " conv2d_95 (Conv2D)          (None, 1, 48, 48)         36912     \n",
      "                                                                 \n",
      " conv2d_96 (Conv2D)          (None, 1, 48, 48)         36912     \n",
      "                                                                 \n",
      " max_pooling2d_41 (MaxPoolin  (None, 1, 48, 48)        0         \n",
      " g2D)                                                            \n",
      "                                                                 \n",
      " dropout_24 (Dropout)        (None, 1, 48, 48)         0         \n",
      "                                                                 \n",
      " conv2d_97 (Conv2D)          (None, 1, 48, 64)         49216     \n",
      "                                                                 \n",
      " conv2d_98 (Conv2D)          (None, 1, 48, 64)         65600     \n",
      "                                                                 \n",
      " max_pooling2d_42 (MaxPoolin  (None, 1, 48, 64)        0         \n",
      " g2D)                                                            \n",
      "                                                                 \n",
      " dropout_25 (Dropout)        (None, 1, 48, 64)         0         \n",
      "                                                                 \n",
      " conv2d_99 (Conv2D)          (None, 1, 48, 128)        73856     \n",
      "                                                                 \n",
      " conv2d_100 (Conv2D)         (None, 1, 48, 128)        147584    \n",
      "                                                                 \n",
      " max_pooling2d_43 (MaxPoolin  (None, 1, 48, 128)       0         \n",
      " g2D)                                                            \n",
      "                                                                 \n",
      " flatten_10 (Flatten)        (None, 6144)              0         \n",
      "                                                                 \n",
      " dense_12 (Dense)            (None, 6)                 36870     \n",
      "                                                                 \n",
      "=================================================================\n",
      "Total params: 446,950\n",
      "Trainable params: 446,950\n",
      "Non-trainable params: 0\n",
      "_________________________________________________________________\n"
     ]
    }
   ],
   "source": [
    "model2 = Sequential()  \n",
    "model2.add(Conv2D(48, kernel_size=(4, 4), activation='relu', input_shape=(X_train.shape[1:]), padding='same'))  \n",
    "model2.add(Conv2D(48,kernel_size= (4, 4), activation='relu', padding='same'))    \n",
    "model2.add(MaxPooling2D(pool_size=(1,1)))  \n",
    "model2.add(Dropout(0.7))  \n",
    "#2nd convolution layer  \n",
    "model2.add(Conv2D(64, (4, 4), activation='relu', padding='same'))  \n",
    "model2.add(Conv2D(64, (4, 4), activation='relu', padding='same'))    \n",
    "model2.add(MaxPooling2D(pool_size=(1,1)))  \n",
    "model2.add(Dropout(0.1))  \n",
    "#3rd convolution layer  \n",
    "model2.add(Conv2D(128, (3, 3), activation='relu', padding='same'))  \n",
    "model2.add(Conv2D(128, (3, 3), activation='relu', padding='same'))    \n",
    "model2.add(MaxPooling2D(pool_size=(1,1)))  \n",
    "model2.add(Flatten())  \n",
    "model2.add(Dense(6,activation='softmax'))  \n",
    "model2.summary()"
   ]
  },
  {
   "cell_type": "code",
   "execution_count": 263,
   "id": "598da261",
   "metadata": {},
   "outputs": [],
   "source": [
    "model2.compile(optimizer = 'adam', loss = 'crossentropy', metrics = ['accuracy'])"
   ]
  },
  {
   "cell_type": "code",
   "execution_count": 264,
   "id": "3fc48814",
   "metadata": {},
   "outputs": [
    {
     "name": "stdout",
     "output_type": "stream",
     "text": [
      "Epoch 1/25\n"
     ]
    },
    {
     "ename": "ValueError",
     "evalue": "in user code:\n\n    File \"/opt/anaconda3/lib/python3.8/site-packages/keras/engine/training.py\", line 1051, in train_function  *\n        return step_function(self, iterator)\n    File \"/opt/anaconda3/lib/python3.8/site-packages/keras/engine/training.py\", line 1040, in step_function  **\n        outputs = model.distribute_strategy.run(run_step, args=(data,))\n    File \"/opt/anaconda3/lib/python3.8/site-packages/keras/engine/training.py\", line 1030, in run_step  **\n        outputs = model.train_step(data)\n    File \"/opt/anaconda3/lib/python3.8/site-packages/keras/engine/training.py\", line 889, in train_step\n        y_pred = self(x, training=True)\n    File \"/opt/anaconda3/lib/python3.8/site-packages/keras/utils/traceback_utils.py\", line 67, in error_handler\n        raise e.with_traceback(filtered_tb) from None\n    File \"/opt/anaconda3/lib/python3.8/site-packages/keras/engine/input_spec.py\", line 264, in assert_input_compatibility\n        raise ValueError(f'Input {input_index} of layer \"{layer_name}\" is '\n\n    ValueError: Input 0 of layer \"sequential_29\" is incompatible with the layer: expected shape=(None, 1, 48, 48), found shape=(None, 48, 48, 1)\n",
     "output_type": "error",
     "traceback": [
      "\u001b[0;31m---------------------------------------------------------------------------\u001b[0m",
      "\u001b[0;31mValueError\u001b[0m                                Traceback (most recent call last)",
      "\u001b[0;32m<ipython-input-264-de4204922b04>\u001b[0m in \u001b[0;36m<module>\u001b[0;34m\u001b[0m\n\u001b[0;32m----> 1\u001b[0;31m \u001b[0mmodel2\u001b[0m\u001b[0;34m.\u001b[0m\u001b[0mfit\u001b[0m\u001b[0;34m(\u001b[0m\u001b[0mX_train_data\u001b[0m\u001b[0;34m,\u001b[0m \u001b[0my_train_data\u001b[0m\u001b[0;34m,\u001b[0m \u001b[0mepochs\u001b[0m \u001b[0;34m=\u001b[0m \u001b[0;36m25\u001b[0m\u001b[0;34m)\u001b[0m\u001b[0;34m\u001b[0m\u001b[0;34m\u001b[0m\u001b[0m\n\u001b[0m",
      "\u001b[0;32m/opt/anaconda3/lib/python3.8/site-packages/keras/utils/traceback_utils.py\u001b[0m in \u001b[0;36merror_handler\u001b[0;34m(*args, **kwargs)\u001b[0m\n\u001b[1;32m     65\u001b[0m     \u001b[0;32mexcept\u001b[0m \u001b[0mException\u001b[0m \u001b[0;32mas\u001b[0m \u001b[0me\u001b[0m\u001b[0;34m:\u001b[0m  \u001b[0;31m# pylint: disable=broad-except\u001b[0m\u001b[0;34m\u001b[0m\u001b[0;34m\u001b[0m\u001b[0m\n\u001b[1;32m     66\u001b[0m       \u001b[0mfiltered_tb\u001b[0m \u001b[0;34m=\u001b[0m \u001b[0m_process_traceback_frames\u001b[0m\u001b[0;34m(\u001b[0m\u001b[0me\u001b[0m\u001b[0;34m.\u001b[0m\u001b[0m__traceback__\u001b[0m\u001b[0;34m)\u001b[0m\u001b[0;34m\u001b[0m\u001b[0;34m\u001b[0m\u001b[0m\n\u001b[0;32m---> 67\u001b[0;31m       \u001b[0;32mraise\u001b[0m \u001b[0me\u001b[0m\u001b[0;34m.\u001b[0m\u001b[0mwith_traceback\u001b[0m\u001b[0;34m(\u001b[0m\u001b[0mfiltered_tb\u001b[0m\u001b[0;34m)\u001b[0m \u001b[0;32mfrom\u001b[0m \u001b[0;32mNone\u001b[0m\u001b[0;34m\u001b[0m\u001b[0;34m\u001b[0m\u001b[0m\n\u001b[0m\u001b[1;32m     68\u001b[0m     \u001b[0;32mfinally\u001b[0m\u001b[0;34m:\u001b[0m\u001b[0;34m\u001b[0m\u001b[0;34m\u001b[0m\u001b[0m\n\u001b[1;32m     69\u001b[0m       \u001b[0;32mdel\u001b[0m \u001b[0mfiltered_tb\u001b[0m\u001b[0;34m\u001b[0m\u001b[0;34m\u001b[0m\u001b[0m\n",
      "\u001b[0;32m/opt/anaconda3/lib/python3.8/site-packages/keras/engine/training.py\u001b[0m in \u001b[0;36mtf__train_function\u001b[0;34m(iterator)\u001b[0m\n\u001b[1;32m     13\u001b[0m \u001b[0;31m# limitations under the License.\u001b[0m\u001b[0;34m\u001b[0m\u001b[0;34m\u001b[0m\u001b[0;34m\u001b[0m\u001b[0m\n\u001b[1;32m     14\u001b[0m \u001b[0;31m# ==============================================================================\u001b[0m\u001b[0;34m\u001b[0m\u001b[0;34m\u001b[0m\u001b[0;34m\u001b[0m\u001b[0m\n\u001b[0;32m---> 15\u001b[0;31m \u001b[0;34m\"\"\"Training-related part of the Keras engine.\"\"\"\u001b[0m\u001b[0;34m\u001b[0m\u001b[0;34m\u001b[0m\u001b[0m\n\u001b[0m\u001b[1;32m     16\u001b[0m \u001b[0;34m\u001b[0m\u001b[0m\n\u001b[1;32m     17\u001b[0m \u001b[0;32mimport\u001b[0m \u001b[0mcopy\u001b[0m\u001b[0;34m\u001b[0m\u001b[0;34m\u001b[0m\u001b[0m\n",
      "\u001b[0;31mValueError\u001b[0m: in user code:\n\n    File \"/opt/anaconda3/lib/python3.8/site-packages/keras/engine/training.py\", line 1051, in train_function  *\n        return step_function(self, iterator)\n    File \"/opt/anaconda3/lib/python3.8/site-packages/keras/engine/training.py\", line 1040, in step_function  **\n        outputs = model.distribute_strategy.run(run_step, args=(data,))\n    File \"/opt/anaconda3/lib/python3.8/site-packages/keras/engine/training.py\", line 1030, in run_step  **\n        outputs = model.train_step(data)\n    File \"/opt/anaconda3/lib/python3.8/site-packages/keras/engine/training.py\", line 889, in train_step\n        y_pred = self(x, training=True)\n    File \"/opt/anaconda3/lib/python3.8/site-packages/keras/utils/traceback_utils.py\", line 67, in error_handler\n        raise e.with_traceback(filtered_tb) from None\n    File \"/opt/anaconda3/lib/python3.8/site-packages/keras/engine/input_spec.py\", line 264, in assert_input_compatibility\n        raise ValueError(f'Input {input_index} of layer \"{layer_name}\" is '\n\n    ValueError: Input 0 of layer \"sequential_29\" is incompatible with the layer: expected shape=(None, 1, 48, 48), found shape=(None, 48, 48, 1)\n"
     ]
    }
   ],
   "source": [
    "model2.fit(X_train_data, y_train_data, epochs = 25)"
   ]
  },
  {
   "cell_type": "markdown",
   "id": "2fba02d8",
   "metadata": {},
   "source": [
    "# Evaluation"
   ]
  },
  {
   "cell_type": "code",
   "execution_count": null,
   "id": "0be8d493",
   "metadata": {},
   "outputs": [],
   "source": [
    "score = model.evaluate(x_test,\n",
    "                       y_test,\n",
    "                       verbose=1)\n",
    "\n",
    "print(f'Test loss: {score[0]}:')\n",
    "print('Test accuracy: {:.3f} %'.format(100 * score[1]))"
   ]
  },
  {
   "cell_type": "code",
   "execution_count": null,
   "id": "19568cf3",
   "metadata": {},
   "outputs": [],
   "source": [
    "y_test_probs = model.predict(x_test) \n",
    "y_test_pred=np.argmax(y_test_probs, axis=1)\n",
    "y_test_pred"
   ]
  }
 ],
 "metadata": {
  "kernelspec": {
   "display_name": "Python 3",
   "language": "python",
   "name": "python3"
  },
  "language_info": {
   "codemirror_mode": {
    "name": "ipython",
    "version": 3
   },
   "file_extension": ".py",
   "mimetype": "text/x-python",
   "name": "python",
   "nbconvert_exporter": "python",
   "pygments_lexer": "ipython3",
   "version": "3.8.8"
  }
 },
 "nbformat": 4,
 "nbformat_minor": 5
}
